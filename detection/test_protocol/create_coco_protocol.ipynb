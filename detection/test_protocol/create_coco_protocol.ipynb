{
 "cells": [
  {
   "cell_type": "code",
   "execution_count": 1,
   "id": "54c307ed-de75-4624-b66b-ce98330cb631",
   "metadata": {},
   "outputs": [],
   "source": [
    "import json\n",
    "import numpy as np"
   ]
  },
  {
   "cell_type": "code",
   "execution_count": 2,
   "id": "6ca75510-6038-43c4-a116-16f0229df56b",
   "metadata": {},
   "outputs": [],
   "source": [
    "#load anno file\n",
    "ann_file = '../data/coco/annotations/instances_val2017.json'\n",
    "with open(ann_file, 'r') as f:\n",
    "    ann_data = json.load(f)\n",
    "\n",
    "#collect all coco classes, map between class category id and text name\n",
    "class_names_all = []\n",
    "cat_label_map = {}\n",
    "for idx, item in enumerate(ann_data['categories']):\n",
    "    class_names_all.append(item['name'])\n",
    "    cat_label_map[item['id']] = item['name']"
   ]
  },
  {
   "cell_type": "code",
   "execution_count": 3,
   "id": "aeb6271a-f47e-47b4-a3fa-f44ca25888a8",
   "metadata": {},
   "outputs": [
    {
     "name": "stdout",
     "output_type": "stream",
     "text": [
      "['person', 'bicycle', 'car', 'motorcycle', 'airplane', 'bus', 'train', 'truck', 'boat', 'traffic light', 'fire hydrant', 'stop sign', 'parking meter', 'bench', 'bird', 'cat', 'dog', 'horse', 'sheep', 'cow', 'elephant', 'bear', 'zebra', 'giraffe', 'backpack', 'umbrella', 'handbag', 'tie', 'suitcase', 'frisbee', 'skis', 'snowboard', 'sports ball', 'kite', 'baseball bat', 'baseball glove', 'skateboard', 'surfboard', 'tennis racket', 'bottle', 'wine glass', 'cup', 'fork', 'knife', 'spoon', 'bowl', 'banana', 'apple', 'sandwich', 'orange', 'broccoli', 'carrot', 'hot dog', 'pizza', 'donut', 'cake', 'chair', 'couch', 'potted plant', 'bed', 'dining table', 'toilet', 'tv', 'laptop', 'mouse', 'remote', 'keyboard', 'cell phone', 'microwave', 'oven', 'toaster', 'sink', 'refrigerator', 'book', 'clock', 'vase', 'scissors', 'teddy bear', 'hair drier', 'toothbrush']\n"
     ]
    }
   ],
   "source": [
    "print(class_names_all)"
   ]
  },
  {
   "cell_type": "code",
   "execution_count": 4,
   "id": "dc7d8477-c06b-4be1-bc43-25717b9efc37",
   "metadata": {},
   "outputs": [],
   "source": [
    "#associate imageid to imagename\n",
    "id_name_map = {}\n",
    "name_id_map = {}\n",
    "for im_dict in ann_data['images']:\n",
    "    id_name_map[im_dict['id']] = im_dict['file_name']\n",
    "    name_id_map[im_dict['file_name']] = im_dict['id']\n",
    "\n",
    "#associate image name to class text labels present\n",
    "gt_annos = {}\n",
    "all_lbl = []\n",
    "for anno_dict in ann_data['annotations']:\n",
    "    im_name = id_name_map[anno_dict['image_id']]\n",
    "    \n",
    "    if im_name not in gt_annos.keys():\n",
    "        gt_annos[im_name] = []\n",
    "\n",
    "    lbl_idx = anno_dict['category_id']\n",
    "    lbl = cat_label_map[lbl_idx]\n",
    "\n",
    "    gt_annos[im_name] += [lbl]\n",
    "\n"
   ]
  },
  {
   "cell_type": "code",
   "execution_count": 5,
   "id": "c36998d1-8933-41d3-b20d-b12a0523c355",
   "metadata": {},
   "outputs": [],
   "source": [
    "#for every image, collect the labels to test that image with\n",
    "im_labels = {}\n",
    "for im_name in gt_annos.keys():\n",
    "    im_labels[im_name] = {}\n",
    "\n",
    "    im_labels[im_name]['all'] = class_names_all\n",
    "\n",
    "    present_classes = gt_annos[im_name]\n",
    "    absent_classes = list(set(class_names_all) ^ set(present_classes))\n",
    "    im_labels[im_name]['open-set'] = absent_classes"
   ]
  },
  {
   "cell_type": "code",
   "execution_count": 6,
   "id": "3f5da97c-65c9-4d9b-be77-1296165062fd",
   "metadata": {},
   "outputs": [],
   "source": [
    "with open('coco_image_labels.json', 'w') as f:\n",
    "    json.dump(im_labels, f)"
   ]
  },
  {
   "cell_type": "code",
   "execution_count": null,
   "id": "1504641e-394c-49da-84d7-a97cf76ceb32",
   "metadata": {},
   "outputs": [],
   "source": []
  }
 ],
 "metadata": {
  "kernelspec": {
   "display_name": "Python 3 (ipykernel)",
   "language": "python",
   "name": "python3"
  },
  "language_info": {
   "codemirror_mode": {
    "name": "ipython",
    "version": 3
   },
   "file_extension": ".py",
   "mimetype": "text/x-python",
   "name": "python",
   "nbconvert_exporter": "python",
   "pygments_lexer": "ipython3",
   "version": "3.12.1"
  }
 },
 "nbformat": 4,
 "nbformat_minor": 5
}
